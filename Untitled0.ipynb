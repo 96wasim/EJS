{
  "nbformat": 4,
  "nbformat_minor": 0,
  "metadata": {
    "colab": {
      "provenance": [],
      "authorship_tag": "ABX9TyMPmBRKteFITEAVK4AYQeI9",
      "include_colab_link": true
    },
    "kernelspec": {
      "name": "python3",
      "display_name": "Python 3"
    },
    "language_info": {
      "name": "python"
    }
  },
  "cells": [
    {
      "cell_type": "markdown",
      "metadata": {
        "id": "view-in-github",
        "colab_type": "text"
      },
      "source": [
        "<a href=\"https://colab.research.google.com/github/96wasim/EJS/blob/main/Untitled0.ipynb\" target=\"_parent\"><img src=\"https://colab.research.google.com/assets/colab-badge.svg\" alt=\"Open In Colab\"/></a>"
      ]
    },
    {
      "cell_type": "code",
      "source": [
        "import numpy as np\n",
        "import matplotlib.pyplot as plt\n",
        "%matplotlib"
      ],
      "metadata": {
        "colab": {
          "base_uri": "https://localhost:8080/"
        },
        "id": "llPkK-g1PwRk",
        "outputId": "ea643394-1b55-4f24-cedd-018c4996da32"
      },
      "execution_count": 8,
      "outputs": [
        {
          "output_type": "stream",
          "name": "stdout",
          "text": [
            "Using matplotlib backend: agg\n"
          ]
        }
      ]
    },
    {
      "cell_type": "code",
      "source": [
        "##define our dataset\n",
        "dataset= [11,10,12,14,12,15,14,13,15,102,12,14,17,19,107,10,13,12,14,108,12,11,14,13,15,10,15,12,10,14,13,15,10]"
      ],
      "metadata": {
        "id": "KZYtc3GlQDuz"
      },
      "execution_count": 7,
      "outputs": []
    },
    {
      "cell_type": "code",
      "source": [
        "##define our dataset\n",
        "dataset= [11,10,12,14,12,15,14,13,15,102,12,14,17,19,107,10,13,12,14,108,12,11,14,13,15,10,15,12,10,14,13,15,10]\n",
        "plt.hist(dataset)"
      ],
      "metadata": {
        "colab": {
          "base_uri": "https://localhost:8080/"
        },
        "id": "6MUAemgbQ706",
        "outputId": "b36fa5c0-f7f0-4d34-eff4-841dd7d69490"
      },
      "execution_count": 9,
      "outputs": [
        {
          "output_type": "execute_result",
          "data": {
            "text/plain": [
              "(array([30.,  0.,  0.,  0.,  0.,  0.,  0.,  0.,  0.,  3.]),\n",
              " array([ 10. ,  19.8,  29.6,  39.4,  49.2,  59. ,  68.8,  78.6,  88.4,\n",
              "         98.2, 108. ]),\n",
              " <BarContainer object of 10 artists>)"
            ]
          },
          "metadata": {},
          "execution_count": 9
        }
      ]
    },
    {
      "cell_type": "code",
      "source": [
        "# z-score\n",
        "outliers=[]\n",
        "def detect_outliers(data):\n",
        "    threshold=3\n",
        "    mean=np.mean(data)\n",
        "    std=np.std(data)\n",
        "    for i in data:\n",
        "        z_score=(i-mean)/std\n",
        "        if np.abs(z_score)>threshold:\n",
        "            outliers.append(i)\n",
        "    return outliers"
      ],
      "metadata": {
        "id": "kCHAVAOrR8gu"
      },
      "execution_count": 6,
      "outputs": []
    },
    {
      "cell_type": "code",
      "source": [
        "detect_outliers(dataset)"
      ],
      "metadata": {
        "colab": {
          "base_uri": "https://localhost:8080/"
        },
        "id": "WyINRZu3UlNO",
        "outputId": "34c0aa3d-db98-46c5-e21b-bf4658c5b707"
      },
      "execution_count": 12,
      "outputs": [
        {
          "output_type": "execute_result",
          "data": {
            "text/plain": [
              "[102, 107, 108, 102, 107, 108]"
            ]
          },
          "metadata": {},
          "execution_count": 12
        }
      ]
    },
    {
      "cell_type": "markdown",
      "source": [
        "## IQR\n",
        "1. Sort the data\n",
        "2. Calclate Q1(25%)and Q3(75%)\n",
        "3. IQR(Q3-Q1)\n",
        "4. Find the Lower Fence(q1-1.5(iqr))\n",
        "5. Find the Upper Fence(q3+1.5(iqr))"
      ],
      "metadata": {
        "id": "7LwbJStsU34F"
      }
    },
    {
      "cell_type": "code",
      "source": [
        "##sort\n",
        "sorted(dataset)\n"
      ],
      "metadata": {
        "colab": {
          "base_uri": "https://localhost:8080/"
        },
        "id": "iocBuQM-WrPr",
        "outputId": "9fa3d7e1-7f28-4308-8c84-dc40088ca338"
      },
      "execution_count": 13,
      "outputs": [
        {
          "output_type": "execute_result",
          "data": {
            "text/plain": [
              "[10,\n",
              " 10,\n",
              " 10,\n",
              " 10,\n",
              " 10,\n",
              " 11,\n",
              " 11,\n",
              " 12,\n",
              " 12,\n",
              " 12,\n",
              " 12,\n",
              " 12,\n",
              " 12,\n",
              " 13,\n",
              " 13,\n",
              " 13,\n",
              " 13,\n",
              " 14,\n",
              " 14,\n",
              " 14,\n",
              " 14,\n",
              " 14,\n",
              " 14,\n",
              " 15,\n",
              " 15,\n",
              " 15,\n",
              " 15,\n",
              " 15,\n",
              " 17,\n",
              " 19,\n",
              " 102,\n",
              " 107,\n",
              " 108]"
            ]
          },
          "metadata": {},
          "execution_count": 13
        }
      ]
    },
    {
      "cell_type": "code",
      "source": [
        "q1,q3=np.percentile(dataset,[25,75])\n",
        "print(q1,q3)"
      ],
      "metadata": {
        "colab": {
          "base_uri": "https://localhost:8080/"
        },
        "id": "n7SykCi_XQkg",
        "outputId": "2d16f774-c30b-4ee4-81a1-60fe9b0a9e0c"
      },
      "execution_count": 14,
      "outputs": [
        {
          "output_type": "stream",
          "name": "stdout",
          "text": [
            "12.0 15.0\n"
          ]
        }
      ]
    },
    {
      "cell_type": "code",
      "source": [
        "sns.boxplot(dataset)"
      ],
      "metadata": {
        "colab": {
          "base_uri": "https://localhost:8080/"
        },
        "id": "eUBXr8a4Y0Yt",
        "outputId": "58083872-310e-4771-e30f-0c018ae662dc"
      },
      "execution_count": 19,
      "outputs": [
        {
          "output_type": "execute_result",
          "data": {
            "text/plain": [
              "<Axes: >"
            ]
          },
          "metadata": {},
          "execution_count": 19
        }
      ]
    },
    {
      "cell_type": "code",
      "source": [
        "##find the lower fence and upper fence\n",
        "lower_fence=q1-(1.5*iqr)\n",
        "upper_fence=q3+(1.5*iqr)\n",
        "print(lower_fence,upper_fence)"
      ],
      "metadata": {
        "colab": {
          "base_uri": "https://localhost:8080/"
        },
        "id": "YkDxKW-YYGs5",
        "outputId": "685860c9-e482-4d05-a189-769ab4b0feef"
      },
      "execution_count": 16,
      "outputs": [
        {
          "output_type": "stream",
          "name": "stdout",
          "text": [
            "7.5 19.5\n"
          ]
        }
      ]
    },
    {
      "cell_type": "code",
      "source": [
        "import seaborn as sns"
      ],
      "metadata": {
        "id": "TitHhfyqYcqR"
      },
      "execution_count": 17,
      "outputs": []
    },
    {
      "cell_type": "code",
      "source": [
        "iqr=q3-q1\n",
        "print(iqr)"
      ],
      "metadata": {
        "colab": {
          "base_uri": "https://localhost:8080/"
        },
        "id": "PONa4pLkXyQ0",
        "outputId": "811cc580-0df0-4132-f1b2-7067c88f52be"
      },
      "execution_count": 15,
      "outputs": [
        {
          "output_type": "stream",
          "name": "stdout",
          "text": [
            "3.0\n"
          ]
        }
      ]
    },
    {
      "cell_type": "code",
      "source": [],
      "metadata": {
        "id": "qkOT0AyKcO_a"
      },
      "execution_count": null,
      "outputs": []
    }
  ]
}