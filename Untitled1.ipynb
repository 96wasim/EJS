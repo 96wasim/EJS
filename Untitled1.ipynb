{
  "nbformat": 4,
  "nbformat_minor": 0,
  "metadata": {
    "colab": {
      "provenance": [],
      "authorship_tag": "ABX9TyPy5yDKT3Jhy+hocxTWc42o",
      "include_colab_link": true
    },
    "kernelspec": {
      "name": "python3",
      "display_name": "Python 3"
    },
    "language_info": {
      "name": "python"
    }
  },
  "cells": [
    {
      "cell_type": "markdown",
      "metadata": {
        "id": "view-in-github",
        "colab_type": "text"
      },
      "source": [
        "<a href=\"https://colab.research.google.com/github/96wasim/EJS/blob/main/Untitled1.ipynb\" target=\"_parent\"><img src=\"https://colab.research.google.com/assets/colab-badge.svg\" alt=\"Open In Colab\"/></a>"
      ]
    },
    {
      "cell_type": "code",
      "execution_count": null,
      "metadata": {
        "id": "SkTIcuXw9jPy"
      },
      "outputs": [],
      "source": []
    },
    {
      "cell_type": "markdown",
      "source": [
        "Statistic pratical Implemention\n",
        "Measure of central tendency\n",
        "1.mean\n",
        "2.median\n",
        "3.mode"
      ],
      "metadata": {
        "id": "mO9El3fW9l2L"
      }
    },
    {
      "cell_type": "code",
      "source": [
        "ages=[23,24,45,12,43,67,45,32,56,32,120]"
      ],
      "metadata": {
        "id": "QRAFF5Ov-UjI"
      },
      "execution_count": 13,
      "outputs": []
    },
    {
      "cell_type": "code",
      "source": [
        "import numpy as np\n",
        "print(np.mean(ages))\n",
        "print(np.median(ages))"
      ],
      "metadata": {
        "colab": {
          "base_uri": "https://localhost:8080/"
        },
        "id": "NwdJDSpI-7XN",
        "outputId": "cfab9454-5d00-403a-a78e-049b08b7e294"
      },
      "execution_count": 6,
      "outputs": [
        {
          "output_type": "stream",
          "name": "stdout",
          "text": [
            "45.36363636363637\n",
            "43.0\n"
          ]
        }
      ]
    },
    {
      "cell_type": "code",
      "source": [
        "import statistics\n",
        "print(statistics.mean(ages))\n",
        "print(statistics.median(ages))"
      ],
      "metadata": {
        "colab": {
          "base_uri": "https://localhost:8080/"
        },
        "id": "6wDrBkQwApiv",
        "outputId": "1d1f096f-0d7c-479f-9999-1a96f0ec92c7"
      },
      "execution_count": 14,
      "outputs": [
        {
          "output_type": "stream",
          "name": "stdout",
          "text": [
            "45.36363636363637\n",
            "43\n"
          ]
        }
      ]
    },
    {
      "cell_type": "code",
      "source": [
        "import seaborn as sns\n",
        "sns.boxenplot(ages)"
      ],
      "metadata": {
        "colab": {
          "base_uri": "https://localhost:8080/",
          "height": 428
        },
        "id": "pBOgm9dACDcV",
        "outputId": "51c105b9-fb4b-421e-da0d-964f84ade771"
      },
      "execution_count": 15,
      "outputs": [
        {
          "output_type": "execute_result",
          "data": {
            "text/plain": [
              "<Axes: >"
            ]
          },
          "metadata": {},
          "execution_count": 15
        },
        {
          "output_type": "display_data",
          "data": {
            "text/plain": [
              "<Figure size 640x480 with 1 Axes>"
            ],
            "image/png": "[encoded data removed]"
          },
          "metadata": {}
        }
      ]
    },
    {
      "cell_type": "markdown",
      "source": [
        "5 number Summary\n"
      ],
      "metadata": {
        "id": "9A4M1uJPDTcK"
      }
    },
    {
      "cell_type": "code",
      "source": [
        "import numpy as np\n",
        "q1,q3=np.percentile(ages,[25,75])"
      ],
      "metadata": {
        "id": "aFzVtH_bDe3B"
      },
      "execution_count": 18,
      "outputs": []
    },
    {
      "cell_type": "code",
      "source": [
        "print(q1,q3)"
      ],
      "metadata": {
        "colab": {
          "base_uri": "https://localhost:8080/"
        },
        "id": "SmPnc1qoEWb5",
        "outputId": "15b12e6a-61b6-4c8b-845e-b07993953f77"
      },
      "execution_count": 20,
      "outputs": [
        {
          "output_type": "stream",
          "name": "stdout",
          "text": [
            "28.0 50.5\n"
          ]
        }
      ]
    },
    {
      "cell_type": "code",
      "source": [
        "## to check outlier[lower fence- higher fence\n",
        "IQR=q3-q1\n",
        "lower_fence=q1-(1.5*IQR)\n",
        "higher_fence=q3+(1.5*IQR)\n",
        "print(lower_fence,higher_fence)"
      ],
      "metadata": {
        "colab": {
          "base_uri": "https://localhost:8080/"
        },
        "id": "kXhEUquxErd4",
        "outputId": "df46c421-49e7-40ec-f16a-5975d1d742cf"
      },
      "execution_count": 21,
      "outputs": [
        {
          "output_type": "stream",
          "name": "stdout",
          "text": [
            "-5.75 84.25\n"
          ]
        }
      ]
    },
    {
      "cell_type": "markdown",
      "source": [
        "Measure of Dispersion\n",
        "Variance\n",
        "Standard Deviation\n"
      ],
      "metadata": {
        "id": "yLxDeHbSINoo"
      }
    },
    {
      "cell_type": "code",
      "source": [
        "statistics.variance(ages)"
      ],
      "metadata": {
        "colab": {
          "base_uri": "https://localhost:8080/"
        },
        "id": "gwZd1U5lIpAR",
        "outputId": "7447e241-06a6-4259-c9a1-a0dbef57fa97"
      },
      "execution_count": 22,
      "outputs": [
        {
          "output_type": "execute_result",
          "data": {
            "text/plain": [
              "858.4545454545455"
            ]
          },
          "metadata": {},
          "execution_count": 22
        }
      ]
    },
    {
      "cell_type": "code",
      "source": [
        "np.var(ages,axis=0)"
      ],
      "metadata": {
        "colab": {
          "base_uri": "https://localhost:8080/"
        },
        "id": "tBehCok9JUsI",
        "outputId": "5bbfbcb2-aa68-4c37-b949-9c1ec0e141ef"
      },
      "execution_count": 24,
      "outputs": [
        {
          "output_type": "execute_result",
          "data": {
            "text/plain": [
              "np.float64(780.4132231404958)"
            ]
          },
          "metadata": {},
          "execution_count": 24
        }
      ]
    },
    {
      "cell_type": "markdown",
      "source": [
        "def variance(data):\n",
        "  n=len(ages)\n",
        "  ##mean of the data\n",
        "  mean=sum(data)/n\n",
        "  ## variance\n",
        "  deviations=[(x-mean)**2 for x in data]\n",
        "  variance=sum(deviations)/n\n",
        "  return variance"
      ],
      "metadata": {
        "id": "eFUKdPsOJrNi"
      }
    },
    {
      "cell_type": "code",
      "source": [
        "import seaborn as sns\n",
        "sns.histplot(ages,kde=True)\n"
      ],
      "metadata": {
        "colab": {
          "base_uri": "https://localhost:8080/",
          "height": 447
        },
        "id": "Uv4kA-irMaYh",
        "outputId": "c91ce247-ed8a-4086-816f-0313ec32cd01"
      },
      "execution_count": 27,
      "outputs": [
        {
          "output_type": "execute_result",
          "data": {
            "text/plain": [
              "<Axes: ylabel='Count'>"
            ]
          },
          "metadata": {},
          "execution_count": 27
        },
        {
          "output_type": "display_data",
          "data": {
            "text/plain": [
              "<Figure size 640x480 with 1 Axes>"
            ],
            "image/png": "[encoded data removed]"
          },
          "metadata": {}
        }
      ]
    },
    {
      "cell_type": "code",
      "source": [
        "df=sns.load_dataset('iris')"
      ],
      "metadata": {
        "id": "gR_bu29jNOQc"
      },
      "execution_count": 28,
      "outputs": []
    },
    {
      "cell_type": "code",
      "source": [
        "df.head()"
      ],
      "metadata": {
        "colab": {
          "base_uri": "https://localhost:8080/",
          "height": 206
        },
        "id": "0ypMbD3JNjaw",
        "outputId": "1ea1a322-bccb-4123-ac08-e7257889dd53"
      },
      "execution_count": 29,
      "outputs": [
        {
          "output_type": "execute_result",
          "data": {
            "text/plain": [
              "   sepal_length  sepal_width  petal_length  petal_width species\n",
              "0           5.1          3.5           1.4          0.2  setosa\n",
              "1           4.9          3.0           1.4          0.2  setosa\n",
              "2           4.7          3.2           1.3          0.2  setosa\n",
              "3           4.6          3.1           1.5          0.2  setosa\n",
              "4           5.0          3.6           1.4          0.2  setosa"
            ],
            "text/html": [
              "\n",
              "  <div id=\"df-158adb8c-e7ec-4123-88ef-ab0161f801fa\" class=\"colab-df-container\">\n",
              "    <div>\n",
              "<style scoped>\n",
              "    .dataframe tbody tr th:only-of-type {\n",
              "        vertical-align: middle;\n",
              "    }\n",
              "\n",
              "    .dataframe tbody tr th {\n",
              "        vertical-align: top;\n",
              "    }\n",
              "\n",
              "    .dataframe thead th {\n",
              "        text-align: right;\n",
              "    }\n",
              "</style>\n",
              "<table border=\"1\" class=\"dataframe\">\n",
              "  <thead>\n",
              "    <tr style=\"text-align: right;\">\n",
              "      <th></th>\n",
              "      <th>sepal_length</th>\n",
              "      <th>sepal_width</th>\n",
              "      <th>petal_length</th>\n",
              "      <th>petal_width</th>\n",
              "      <th>species</th>\n",
              "    </tr>\n",
              "  </thead>\n",
              "  <tbody>\n",
              "    <tr>\n",
              "      <th>0</th>\n",
              "      <td>5.1</td>\n",
              "      <td>3.5</td>\n",
              "      <td>1.4</td>\n",
              "      <td>0.2</td>\n",
              "      <td>setosa</td>\n",
              "    </tr>\n",
              "    <tr>\n",
              "      <th>1</th>\n",
              "      <td>4.9</td>\n",
              "      <td>3.0</td>\n",
              "      <td>1.4</td>\n",
              "      <td>0.2</td>\n",
              "      <td>setosa</td>\n",
              "    </tr>\n",
              "    <tr>\n",
              "      <th>2</th>\n",
              "      <td>4.7</td>\n",
              "      <td>3.2</td>\n",
              "      <td>1.3</td>\n",
              "      <td>0.2</td>\n",
              "      <td>setosa</td>\n",
              "    </tr>\n",
              "    <tr>\n",
              "      <th>3</th>\n",
              "      <td>4.6</td>\n",
              "      <td>3.1</td>\n",
              "      <td>1.5</td>\n",
              "      <td>0.2</td>\n",
              "      <td>setosa</td>\n",
              "    </tr>\n",
              "    <tr>\n",
              "      <th>4</th>\n",
              "      <td>5.0</td>\n",
              "      <td>3.6</td>\n",
              "      <td>1.4</td>\n",
              "      <td>0.2</td>\n",
              "      <td>setosa</td>\n",
              "    </tr>\n",
              "  </tbody>\n",
              "</table>\n",
              "</div>\n",
              "    <div class=\"colab-df-buttons\">\n",
              "\n",
              "  <div class=\"colab-df-container\">\n",
              "    <button class=\"colab-df-convert\" onclick=\"convertToInteractive('df-158adb8c-e7ec-4123-88ef-ab0161f801fa')\"\n",
              "            title=\"Convert this dataframe to an interactive table.\"\n",
              "            style=\"display:none;\">\n",
              "\n",
              "  <svg xmlns=\"http://www.w3.org/2000/svg\" height=\"24px\" viewBox=\"0 -960 960 960\">\n",
              "    <path d=\"M120-120v-720h720v720H120Zm60-500h600v-160H180v160Zm220 220h160v-160H400v160Zm0 220h160v-160H400v160ZM180-400h160v-160H180v160Zm440 0h160v-160H620v160ZM180-180h160v-160H180v160Zm440 0h160v-160H620v160Z\"/>\n",
              "  </svg>\n",
              "    </button>\n",
              "\n",
              "  <style>\n",
              "    .colab-df-container {\n",
              "      display:flex;\n",
              "      gap: 12px;\n",
              "    }\n",
              "\n",
              "    .colab-df-convert {\n",
              "      background-color: #E8F0FE;\n",
              "      border: none;\n",
              "      border-radius: 50%;\n",
              "      cursor: pointer;\n",
              "      display: none;\n",
              "      fill: #1967D2;\n",
              "      height: 32px;\n",
              "      padding: 0 0 0 0;\n",
              "      width: 32px;\n",
              "    }\n",
              "\n",
              "    .colab-df-convert:hover {\n",
              "      background-color: #E2EBFA;\n",
              "      box-shadow: 0px 1px 2px rgba(60, 64, 67, 0.3), 0px 1px 3px 1px rgba(60, 64, 67, 0.15);\n",
              "      fill: #174EA6;\n",
              "    }\n",
              "\n",
              "    .colab-df-buttons div {\n",
              "      margin-bottom: 4px;\n",
              "    }\n",
              "\n",
              "    [theme=dark] .colab-df-convert {\n",
              "      background-color: #3B4455;\n",
              "      fill: #D2E3FC;\n",
              "    }\n",
              "\n",
              "    [theme=dark] .colab-df-convert:hover {\n",
              "      background-color: #434B5C;\n",
              "      box-shadow: 0px 1px 3px 1px rgba(0, 0, 0, 0.15);\n",
              "      filter: drop-shadow(0px 1px 2px rgba(0, 0, 0, 0.3));\n",
              "      fill: #FFFFFF;\n",
              "    }\n",
              "  </style>\n",
              "\n",
              "    <script>\n",
              "      const buttonEl =\n",
              "        document.querySelector('#df-158adb8c-e7ec-4123-88ef-ab0161f801fa button.colab-df-convert');\n",
              "      buttonEl.style.display =\n",
              "        google.colab.kernel.accessAllowed ? 'block' : 'none';\n",
              "\n",
              "      async function convertToInteractive(key) {\n",
              "        const element = document.querySelector('#df-158adb8c-e7ec-4123-88ef-ab0161f801fa');\n",
              "        const dataTable =\n",
              "          await google.colab.kernel.invokeFunction('convertToInteractive',\n",
              "                                                    [key], {});\n",
              "        if (!dataTable) return;\n",
              "\n",
              "        const docLinkHtml = 'Like what you see? Visit the ' +\n",
              "          '<a target=\"_blank\" href=https://colab.research.google.com/notebooks/data_table.ipynb>data table notebook</a>'\n",
              "          + ' to learn more about interactive tables.';\n",
              "        element.innerHTML = '';\n",
              "        dataTable['output_type'] = 'display_data';\n",
              "        await google.colab.output.renderOutput(dataTable, element);\n",
              "        const docLink = document.createElement('div');\n",
              "        docLink.innerHTML = docLinkHtml;\n",
              "        element.appendChild(docLink);\n",
              "      }\n",
              "    </script>\n",
              "  </div>\n",
              "\n",
              "\n",
              "    <div id=\"df-3b9dc298-9866-4810-878f-f447a18dda34\">\n",
              "      <button class=\"colab-df-quickchart\" onclick=\"quickchart('df-3b9dc298-9866-4810-878f-f447a18dda34')\"\n",
              "                title=\"Suggest charts\"\n",
              "                style=\"display:none;\">\n",
              "\n",
              "<svg xmlns=\"http://www.w3.org/2000/svg\" height=\"24px\"viewBox=\"0 0 24 24\"\n",
              "     width=\"24px\">\n",
              "    <g>\n",
              "        <path d=\"M19 3H5c-1.1 0-2 .9-2 2v14c0 1.1.9 2 2 2h14c1.1 0 2-.9 2-2V5c0-1.1-.9-2-2-2zM9 17H7v-7h2v7zm4 0h-2V7h2v10zm4 0h-2v-4h2v4z\"/>\n",
              "    </g>\n",
              "</svg>\n",
              "      </button>\n",
              "\n",
              "<style>\n",
              "  .colab-df-quickchart {\n",
              "      --bg-color: #E8F0FE;\n",
              "      --fill-color: #1967D2;\n",
              "      --hover-bg-color: #E2EBFA;\n",
              "      --hover-fill-color: #174EA6;\n",
              "      --disabled-fill-color: #AAA;\n",
              "      --disabled-bg-color: #DDD;\n",
              "  }\n",
              "\n",
              "  [theme=dark] .colab-df-quickchart {\n",
              "      --bg-color: #3B4455;\n",
              "      --fill-color: #D2E3FC;\n",
              "      --hover-bg-color: #434B5C;\n",
              "      --hover-fill-color: #FFFFFF;\n",
              "      --disabled-bg-color: #3B4455;\n",
              "      --disabled-fill-color: #666;\n",
              "  }\n",
              "\n",
              "  .colab-df-quickchart {\n",
              "    background-color: var(--bg-color);\n",
              "    border: none;\n",
              "    border-radius: 50%;\n",
              "    cursor: pointer;\n",
              "    display: none;\n",
              "    fill: var(--fill-color);\n",
              "    height: 32px;\n",
              "    padding: 0;\n",
              "    width: 32px;\n",
              "  }\n",
              "\n",
              "  .colab-df-quickchart:hover {\n",
              "    background-color: var(--hover-bg-color);\n",
              "    box-shadow: 0 1px 2px rgba(60, 64, 67, 0.3), 0 1px 3px 1px rgba(60, 64, 67, 0.15);\n",
              "    fill: var(--button-hover-fill-color);\n",
              "  }\n",
              "\n",
              "  .colab-df-quickchart-complete:disabled,\n",
              "  .colab-df-quickchart-complete:disabled:hover {\n",
              "    background-color: var(--disabled-bg-color);\n",
              "    fill: var(--disabled-fill-color);\n",
              "    box-shadow: none;\n",
              "  }\n",
              "\n",
              "  .colab-df-spinner {\n",
              "    border: 2px solid var(--fill-color);\n",
              "    border-color: transparent;\n",
              "    border-bottom-color: var(--fill-color);\n",
              "    animation:\n",
              "      spin 1s steps(1) infinite;\n",
              "  }\n",
              "\n",
              "  @keyframes spin {\n",
              "    0% {\n",
              "      border-color: transparent;\n",
              "      border-bottom-color: var(--fill-color);\n",
              "      border-left-color: var(--fill-color);\n",
              "    }\n",
              "    20% {\n",
              "      border-color: transparent;\n",
              "      border-left-color: var(--fill-color);\n",
              "      border-top-color: var(--fill-color);\n",
              "    }\n",
              "    30% {\n",
              "      border-color: transparent;\n",
              "      border-left-color: var(--fill-color);\n",
              "      border-top-color: var(--fill-color);\n",
              "      border-right-color: var(--fill-color);\n",
              "    }\n",
              "    40% {\n",
              "      border-color: transparent;\n",
              "      border-right-color: var(--fill-color);\n",
              "      border-top-color: var(--fill-color);\n",
              "    }\n",
              "    60% {\n",
              "      border-color: transparent;\n",
              "      border-right-color: var(--fill-color);\n",
              "    }\n",
              "    80% {\n",
              "      border-color: transparent;\n",
              "      border-right-color: var(--fill-color);\n",
              "      border-bottom-color: var(--fill-color);\n",
              "    }\n",
              "    90% {\n",
              "      border-color: transparent;\n",
              "      border-bottom-color: var(--fill-color);\n",
              "    }\n",
              "  }\n",
              "</style>\n",
              "\n",
              "      <script>\n",
              "        async function quickchart(key) {\n",
              "          const quickchartButtonEl =\n",
              "            document.querySelector('#' + key + ' button');\n",
              "          quickchartButtonEl.disabled = true;  // To prevent multiple clicks.\n",
              "          quickchartButtonEl.classList.add('colab-df-spinner');\n",
              "          try {\n",
              "            const charts = await google.colab.kernel.invokeFunction(\n",
              "                'suggestCharts', [key], {});\n",
              "          } catch (error) {\n",
              "            console.error('Error during call to suggestCharts:', error);\n",
              "          }\n",
              "          quickchartButtonEl.classList.remove('colab-df-spinner');\n",
              "          quickchartButtonEl.classList.add('colab-df-quickchart-complete');\n",
              "        }\n",
              "        (() => {\n",
              "          let quickchartButtonEl =\n",
              "            document.querySelector('#df-3b9dc298-9866-4810-878f-f447a18dda34 button');\n",
              "          quickchartButtonEl.style.display =\n",
              "            google.colab.kernel.accessAllowed ? 'block' : 'none';\n",
              "        })();\n",
              "      </script>\n",
              "    </div>\n",
              "\n",
              "    </div>\n",
              "  </div>\n"
            ],
            "application/vnd.google.colaboratory.intrinsic+json": {
              "type": "dataframe",
              "variable_name": "df",
              "summary": "{\n  \"name\": \"df\",\n  \"rows\": 150,\n  \"fields\": [\n    {\n      \"column\": \"sepal_length\",\n      \"properties\": {\n        \"dtype\": \"number\",\n        \"std\": 0.8280661279778629,\n        \"min\": 4.3,\n        \"max\": 7.9,\n        \"num_unique_values\": 35,\n        \"samples\": [\n          6.2,\n          4.5,\n          5.6\n        ],\n        \"semantic_type\": \"\",\n        \"description\": \"\"\n      }\n    },\n    {\n      \"column\": \"sepal_width\",\n      \"properties\": {\n        \"dtype\": \"number\",\n        \"std\": 0.435866284936698,\n        \"min\": 2.0,\n        \"max\": 4.4,\n        \"num_unique_values\": 23,\n        \"samples\": [\n          2.3,\n          4.0,\n          3.5\n        ],\n        \"semantic_type\": \"\",\n        \"description\": \"\"\n      }\n    },\n    {\n      \"column\": \"petal_length\",\n      \"properties\": {\n        \"dtype\": \"number\",\n        \"std\": 1.7652982332594667,\n        \"min\": 1.0,\n        \"max\": 6.9,\n        \"num_unique_values\": 43,\n        \"samples\": [\n          6.7,\n          3.8,\n          3.7\n        ],\n        \"semantic_type\": \"\",\n        \"description\": \"\"\n      }\n    },\n    {\n      \"column\": \"petal_width\",\n      \"properties\": {\n        \"dtype\": \"number\",\n        \"std\": 0.7622376689603465,\n        \"min\": 0.1,\n        \"max\": 2.5,\n        \"num_unique_values\": 22,\n        \"samples\": [\n          0.2,\n          1.2,\n          1.3\n        ],\n        \"semantic_type\": \"\",\n        \"description\": \"\"\n      }\n    },\n    {\n      \"column\": \"species\",\n      \"properties\": {\n        \"dtype\": \"category\",\n        \"num_unique_values\": 3,\n        \"samples\": [\n          \"setosa\",\n          \"versicolor\",\n          \"virginica\"\n        ],\n        \"semantic_type\": \"\",\n        \"description\": \"\"\n      }\n    }\n  ]\n}"
            }
          },
          "metadata": {},
          "execution_count": 29
        }
      ]
    },
    {
      "cell_type": "code",
      "source": [
        "## create a normal distributed data\n",
        "s=np.random.normal(0.5,0.2,1000)"
      ],
      "metadata": {
        "id": "7gnnWSd_N4Ye"
      },
      "execution_count": 36,
      "outputs": []
    },
    {
      "cell_type": "code",
      "source": [
        "s"
      ],
      "metadata": {
        "colab": {
          "base_uri": "https://localhost:8080/"
        },
        "id": "A1zUm4qlPlCO",
        "outputId": "8848d408-7cde-49c3-fa6a-0a1a46b3e290"
      },
      "execution_count": 37,
      "outputs": [
        {
          "output_type": "execute_result",
          "data": {
            "text/plain": [
              "array([ 0.32609047,  0.74513178,  0.47270713,  0.53359182,  0.28762974,\n",
              "        0.82645381,  0.57182911,  0.69183459,  0.71264429,  0.40778986,\n",
              "        0.72434956,  0.44004555,  0.74506204,  0.43049703,  0.57439735,\n",
              "        0.56938686,  0.26959697,  0.86605607,  0.70084607,  0.2067824 ,\n",
              "        0.63196091,  0.55331647,  0.31587185,  0.48634505,  0.67056818,\n",
              "        0.57482656,  0.1227199 ,  0.35387896,  0.5042625 ,  0.45644651,\n",
              "        0.71171769,  0.72106025,  0.58332893,  0.59518787,  0.50826316,\n",
              "        0.81412081,  0.66723537,  0.67381818,  0.57967751,  0.3710946 ,\n",
              "        0.76678091,  0.70598167,  0.40791526,  0.47585423,  0.63501906,\n",
              "        0.77405022,  0.47127012,  0.58216737,  0.7226867 ,  0.52113899,\n",
              "        0.24128376,  0.29983552,  0.61825383,  0.46918892,  0.64160394,\n",
              "        0.50354297,  0.52506464,  0.53810342,  0.52776797,  0.18273583,\n",
              "        0.23689475,  0.79625341,  0.44239088,  0.61267038,  0.42376318,\n",
              "        0.53522768,  0.58289243,  0.75871508,  0.27540186,  0.45276456,\n",
              "        0.21016537,  0.49567705,  0.61887554,  0.75168223,  0.66494879,\n",
              "        0.53956676,  0.15549322,  0.23941517,  0.46447101,  0.33929064,\n",
              "        0.5709778 ,  0.36301254,  0.57949857,  1.03059101,  0.457698  ,\n",
              "        0.80989044,  0.36586013,  0.16191117,  0.57882339,  0.78483429,\n",
              "        0.50816874,  0.64358412,  0.49384777,  0.62860451,  0.51987533,\n",
              "        0.49311419,  0.4359949 ,  0.89233618,  0.45641221,  0.92303658,\n",
              "        0.78781191,  0.49316247,  0.29676396,  0.47022111,  0.2845897 ,\n",
              "        0.42905443,  0.71140844,  0.34042744,  0.44181592,  0.50437713,\n",
              "        0.41690269,  0.58912074,  0.20436344,  0.41712035,  0.37674963,\n",
              "        0.23279838,  0.41238304,  0.35777818,  0.76785608,  0.56653984,\n",
              "        0.25412292,  1.10137303,  0.49551551,  0.4332686 ,  0.84522247,\n",
              "        0.89077811,  0.50881843,  0.69538894,  0.56293306,  0.25506532,\n",
              "        0.72828371,  0.13020421,  0.35864894,  0.106342  ,  0.85853648,\n",
              "        0.46145511,  0.34455246,  0.74119771,  0.68162519,  0.27618154,\n",
              "        1.0132185 ,  0.11994152,  0.56616416,  0.07685751,  0.7675262 ,\n",
              "        0.50337852,  0.76672403,  0.41371915,  0.67663972,  0.65446402,\n",
              "        0.56434459,  0.56908202,  0.45186075,  0.1517495 ,  0.43470921,\n",
              "        0.47098099,  0.68488346,  0.67967732,  0.44989446,  0.7810287 ,\n",
              "        0.81477068,  0.63684446,  0.69206905,  0.69018345,  0.39011029,\n",
              "        0.80961158,  0.44775822,  0.53571841,  1.32375557,  0.3042077 ,\n",
              "        0.66912534,  0.59924034,  0.38160658,  0.63189038,  0.31694975,\n",
              "        0.25793766,  0.55404676,  0.40127121,  0.54572536,  0.44293345,\n",
              "        0.4511338 ,  0.58010989,  0.4299118 ,  0.80005697,  0.30840906,\n",
              "        0.27683058,  0.48625695,  0.46321469,  0.77140848,  0.28736709,\n",
              "        0.31257336,  0.54507657,  0.60898172,  0.5670452 ,  0.48031108,\n",
              "        0.53956639,  0.59930116,  0.52717641,  0.25660146,  0.55404734,\n",
              "        0.56943349,  0.62618464,  1.0199021 ,  0.67638659,  0.35407127,\n",
              "        0.21297336,  0.64757495,  0.55653941,  0.76904126,  0.44739576,\n",
              "        0.49128396,  0.36886316,  0.65250326,  1.10838127,  0.59568883,\n",
              "        0.20673271,  0.16263103,  0.53304846,  0.46371546,  0.35371123,\n",
              "        0.89517959,  0.70633102,  0.60512728,  0.73103927,  0.91543304,\n",
              "        0.60355289,  0.52468293,  0.59132052,  0.43452116,  0.37093728,\n",
              "        0.59384888,  0.61290599,  0.65568348,  0.17521249,  0.20080666,\n",
              "        0.77566543,  0.49582296,  0.62763786,  0.55951241,  0.59979571,\n",
              "        0.44855338,  0.74066908,  0.88954404,  0.56511281, -0.01171491,\n",
              "        0.86546939,  0.71488458,  0.71655656,  0.80237109,  0.37893509,\n",
              "        0.702621  ,  0.34081818,  0.4195336 ,  0.69548036,  0.6853347 ,\n",
              "        0.48226865,  0.37245066,  0.52866126,  0.55576362,  0.35976846,\n",
              "        0.68430041,  0.4580952 ,  0.69145441,  0.59125768,  0.55067159,\n",
              "        0.19347964,  0.61560011,  0.83949235,  0.28303047,  0.39742258,\n",
              "        0.5837651 ,  0.48151112,  0.57921567,  0.62718903,  0.3512918 ,\n",
              "        0.68577253,  0.34776934,  0.33977294,  0.54018351,  0.89159601,\n",
              "        0.1643331 ,  0.57522342,  0.51860121,  0.50630583,  0.60941894,\n",
              "        0.3906325 ,  0.43746422,  0.36737306,  0.35596125,  0.48721136,\n",
              "        0.41105901,  0.3653257 ,  0.75973908,  0.30518957,  0.12486489,\n",
              "        0.57313685,  0.24590499,  0.44230146,  0.53328917,  0.40570814,\n",
              "        0.59785253,  0.50881124,  0.81781068,  0.25984311,  0.71166525,\n",
              "        0.33547826,  0.16775976,  0.60107927,  0.21794009,  0.72119122,\n",
              "        0.72437117,  0.48569929,  0.76950131,  0.39637552,  0.18301366,\n",
              "        0.51475757, -0.04737694,  0.7064527 ,  0.54013716,  0.42511854,\n",
              "        0.81762621,  0.51675627,  0.53884295,  0.66900855,  0.75085983,\n",
              "        0.70205775,  0.53615943,  0.65619901,  0.15520457,  0.86832741,\n",
              "        0.64374384,  0.75311777,  0.64530657,  0.14303088,  1.07623765,\n",
              "        0.58093771,  0.68188561,  0.37204881,  0.56590869,  0.57912709,\n",
              "        0.51757101,  0.21451407,  0.51884785,  0.34870848,  0.13314401,\n",
              "        0.53844031,  0.12858077,  0.44520484,  0.46857796,  0.47203741,\n",
              "        0.45864597,  0.33795221,  0.49328717,  0.62763435,  0.76148491,\n",
              "        0.47990292,  0.48915612,  0.29376187,  0.71792734,  0.71816637,\n",
              "        0.44886612,  0.992389  ,  0.76701027,  0.81049073,  0.64270988,\n",
              "        0.46130433,  0.42644912,  0.06860285,  0.60010806,  0.48669754,\n",
              "        0.70490022,  0.60944107,  0.55685966,  0.28886275,  0.83897263,\n",
              "        0.31984069,  0.4880018 ,  0.47953214,  0.4455607 ,  0.28651307,\n",
              "        0.55748166,  0.47248019,  0.56743899,  0.39074681,  0.3072472 ,\n",
              "        0.29638442,  0.33850896,  0.51709362,  0.54275992,  0.32690189,\n",
              "        0.36596604,  0.63720539,  0.76548531,  0.74333905,  0.50192118,\n",
              "        0.34042231,  0.40322853,  0.60185126,  0.65048939,  0.73891689,\n",
              "        0.45343025,  0.00818614,  0.60652619,  0.7215907 ,  0.60516283,\n",
              "        0.75169618,  0.21873367,  0.43107269,  0.80325222,  0.28585117,\n",
              "        0.13053117,  0.70305381,  0.66832827,  0.43266237,  0.85035658,\n",
              "        0.7867397 ,  0.33615111,  0.23382149,  0.60063295,  0.55799001,\n",
              "        0.38754485,  0.51837432,  0.43919251,  0.67677355,  0.58685651,\n",
              "        0.30948672,  0.34434773,  0.40038315,  0.21445183,  0.71369075,\n",
              "        0.72758141,  0.6213845 ,  0.66128598,  0.49460385,  0.66875521,\n",
              "        0.46921405,  0.701997  ,  0.36983132,  0.5331289 , -0.12083394,\n",
              "        0.76471847,  0.61840809,  0.47911276,  0.87157114,  0.59501308,\n",
              "        0.15602124,  0.45802743,  0.27640235,  0.61489726,  0.50903633,\n",
              "        0.78637889,  0.16964148,  0.52558467,  0.50228175,  0.21043175,\n",
              "        0.41788456,  0.35639641,  0.44167525,  0.53485227,  0.40135438,\n",
              "        0.4387098 ,  0.90755045,  0.15278936,  0.69694984,  0.258293  ,\n",
              "        0.46051438,  0.50206985,  0.28558025,  0.17362925,  0.56745547,\n",
              "        0.46346341,  0.54752361,  0.19952361,  0.59909406,  0.47114792,\n",
              "        0.37351159,  0.43838175,  0.57929411,  0.81589944,  0.65622589,\n",
              "        0.54724099,  0.43738821,  0.66187464, -0.01340003,  0.12432237,\n",
              "        0.56421956,  0.58983566,  0.56861998,  0.44251215,  0.89594977,\n",
              "        0.2566942 ,  0.70949735,  0.26976509,  0.58988003,  0.6496856 ,\n",
              "        0.3492092 ,  0.85831542,  0.60916704,  0.33293403,  0.36421625,\n",
              "        0.48518298,  0.50055009,  0.6777843 ,  0.70770099,  0.47134304,\n",
              "        0.14493716,  0.69074783,  0.47471895,  0.49215366,  0.2811583 ,\n",
              "        0.297274  ,  0.66184806,  0.82777077,  0.40128073,  0.35490912,\n",
              "        0.40088818,  0.14209603,  0.19158693,  0.22249445,  0.24057278,\n",
              "        0.35634699,  0.47125898,  0.46753476,  0.54494207,  0.20535174,\n",
              "        0.50170494,  0.64711838,  0.25020543,  0.27464632,  0.81840352,\n",
              "        0.34988307,  0.72941705,  0.13031089,  0.36655831,  0.52453343,\n",
              "        0.67195352,  0.59659848,  0.36105779,  0.75989446,  0.56874457,\n",
              "        0.26027799,  0.17526476,  0.39293132,  0.19577359,  0.42869211,\n",
              "        0.83319726,  0.46852362,  0.34212762,  0.47148563,  0.38148486,\n",
              "        0.61524451,  0.66394111,  0.7794249 ,  0.65926437,  0.3173538 ,\n",
              "        0.75228806,  0.21469817,  0.70725782,  0.22079729,  0.7136703 ,\n",
              "        0.52577901,  0.95096362, -0.03819837,  0.60904005,  0.51263603,\n",
              "        0.55974234,  0.94826722,  0.59975767,  0.36539909,  0.49700883,\n",
              "        0.32941031,  0.60020172,  0.80769915,  0.71938532,  0.21702165,\n",
              "        0.32333965,  0.22872031,  0.34332965,  0.72760536,  0.40232905,\n",
              "        0.18057796,  0.69472311,  0.70877864,  0.65897806,  0.82685665,\n",
              "        0.14712028,  0.65858763,  0.36457693,  0.92239029,  0.86121476,\n",
              "        0.39022306,  0.26802793,  0.41986702,  0.14057625,  0.38924028,\n",
              "        0.58267079,  0.63775622,  0.30340802,  0.56018704,  0.54976555,\n",
              "        0.4519603 ,  0.25958319,  0.48702656,  0.55020531,  0.85476304,\n",
              "        0.45753627,  0.59640229,  0.45377206,  0.65372052,  0.77695559,\n",
              "        0.58522765,  0.35216887,  0.32635604,  0.54420207,  0.53430436,\n",
              "        0.61792102,  0.2580117 ,  0.24152571,  0.10204702,  0.57792907,\n",
              "        0.61537579,  0.58771552,  0.5048696 ,  0.29732529,  0.46045922,\n",
              "        0.7003104 ,  0.57597622,  0.33327792,  0.5030493 ,  0.52853899,\n",
              "        0.65867183,  0.60299755,  0.63497489,  0.2786148 ,  0.42560732,\n",
              "        0.70692967,  0.54944243,  0.46878239,  0.50457195,  0.73011511,\n",
              "        0.36970836,  0.3314405 ,  0.4055355 ,  0.47799774,  0.48235416,\n",
              "        0.5167606 ,  0.55554381,  0.48333375,  0.64775837,  0.86793947,\n",
              "        0.35124612,  0.83883969,  0.65918158,  0.1308916 ,  0.58941236,\n",
              "        0.5282843 ,  0.40943777,  0.49381774,  0.63069548,  0.32646049,\n",
              "        0.44811495,  0.75523014,  0.90900406,  0.83674565,  0.56624657,\n",
              "        0.37420308,  0.41837663,  0.43042994,  0.41550424,  0.42837865,\n",
              "        0.55075994,  0.4788896 ,  0.42005547,  0.46150931,  0.64474816,\n",
              "        0.47484708,  0.33649071,  0.49914537,  0.00225719,  0.93363036,\n",
              "        0.7109802 ,  0.59866013,  0.70904751,  0.18473505,  0.37750134,\n",
              "        0.66076968,  0.70280209,  0.81604825,  0.5532905 ,  0.70009443,\n",
              "        0.40679245,  0.81508682,  0.37562221,  0.37202379,  0.33058544,\n",
              "        0.59883983,  0.38307386,  0.45178038,  0.47251711,  0.62733754,\n",
              "        0.33044251,  0.41803599,  0.3508687 ,  0.66410091,  0.94185877,\n",
              "        0.45286364,  0.59216369,  0.49742153,  0.91006462,  0.52859284,\n",
              "        0.13793754,  0.44459454,  0.20126958,  0.51072182,  0.49821135,\n",
              "        0.66439196,  0.21522946,  0.21247646,  0.46080237,  0.39070741,\n",
              "        0.36514853,  0.61189203,  0.58617323,  0.69023089,  0.26235322,\n",
              "        0.49613541,  0.58168756,  0.660163  ,  0.24474867,  0.29367321,\n",
              "        0.49511927,  0.60829887,  0.60605796,  0.4138093 ,  0.84660303,\n",
              "        0.77168473,  0.74551005,  0.55478074,  0.32375795,  0.68157999,\n",
              "        0.532045  ,  0.45016788,  0.05726189,  0.54960543,  0.74463219,\n",
              "        0.19868595,  0.62137634,  0.17847695,  0.51341116,  0.57953487,\n",
              "        0.08496759,  0.66592711,  0.60031007,  0.21162674,  0.75616741,\n",
              "        0.35207356,  0.59924598,  0.41284122,  0.61658645,  0.60941391,\n",
              "        0.45698234,  0.63265529,  0.39099679,  0.32772524,  0.19745776,\n",
              "        0.6611478 ,  0.21909316,  0.82573976,  0.73966397,  0.46064997,\n",
              "        0.42844464,  0.54185038,  0.61374771,  0.65611625,  0.30709846,\n",
              "        0.63425494,  0.37757017,  0.56983612,  0.39844546,  0.43749657,\n",
              "        0.68907534,  0.71010987,  0.40118898,  0.81806882,  0.3054859 ,\n",
              "        0.29208855,  0.82667265,  0.80045452,  0.43003803,  0.32714746,\n",
              "        0.89632797,  0.68099178,  0.31816753,  0.53360533,  0.65607059,\n",
              "        0.62283728,  0.52593721,  0.59813218,  0.30385969,  0.26329946,\n",
              "        0.73504725,  0.65716252,  0.31383147,  0.55497673,  0.3739604 ,\n",
              "        0.52682524,  0.76524412,  0.44909508,  0.34397457,  0.70834446,\n",
              "        0.22198188,  0.46045721,  0.53633383,  0.50817575,  0.771587  ,\n",
              "        0.44355865,  0.49891977,  0.75089504,  0.74686743,  0.63413289,\n",
              "        0.57289435,  0.69036264,  0.38021219,  0.37959433,  0.78235092,\n",
              "        0.21710958,  0.31549178,  0.56695851,  0.5428089 ,  0.54908739,\n",
              "        0.29897675,  0.22064297,  0.75050199,  0.86266935,  0.44492464,\n",
              "        0.46942155,  0.35936407,  0.74316713,  0.33144377,  0.69896933,\n",
              "        0.53051605,  0.22100455,  0.42019104,  0.37282722,  0.51432422,\n",
              "        0.37096435,  0.64329366,  0.59010995,  0.41193982,  0.71625488,\n",
              "        0.31501018,  0.715871  ,  0.1027625 ,  0.62331622,  0.57400277,\n",
              "        0.89359968,  0.53486647,  0.18712918,  0.40193993,  0.52671695,\n",
              "        0.41596323,  0.35066128,  0.70591591,  0.19972246,  0.6705112 ,\n",
              "        0.39665744,  0.52429019,  0.58965455,  0.40728512,  0.41243206,\n",
              "        0.28233774,  0.85434082,  0.64980055,  0.36006833,  0.62516422,\n",
              "        0.65384827,  0.48040434,  0.20391759,  0.35364985,  0.32966332,\n",
              "        0.28290604,  0.36648223,  0.37648265,  0.41945322,  0.44693948,\n",
              "        0.45818313,  0.55186972,  0.48947752,  0.64565359,  0.50470686,\n",
              "        0.45723492,  0.35279827,  0.25020442,  0.68358235,  0.71111313,\n",
              "        0.26032048,  0.82709752,  0.50534277,  0.62000843,  0.39262704,\n",
              "        0.20636559,  0.48628782,  0.51082925,  0.09647794,  0.62620741,\n",
              "        0.66505074,  0.54156089,  0.60806951,  0.36498855,  0.54939244,\n",
              "        0.50759783,  0.10687368,  0.60464811,  0.74525535,  0.82080798,\n",
              "        0.76378343,  0.39427203,  0.55876588,  0.62294244,  0.43343526,\n",
              "        0.87785034,  0.53479821,  0.15036345,  0.65783547,  0.61418326,\n",
              "        0.24542423,  0.46565793,  0.32123594,  0.68041608,  0.02611225,\n",
              "        0.42409136,  0.37010594,  0.46181381,  0.14925028,  0.31394562,\n",
              "        0.52631558,  0.33088978,  0.39712896,  0.42126147,  0.2675643 ,\n",
              "        0.65425   ,  0.47275599,  0.14865491,  0.39837052,  0.73037998,\n",
              "       -0.15843828,  0.63019055,  0.56391324,  0.34961187,  0.57305323,\n",
              "        0.28815431,  0.30656658,  0.39754083,  0.94155666,  0.5035187 ,\n",
              "        0.67774591,  0.16573573,  0.38533018,  0.50129808,  0.11477888,\n",
              "        0.6049073 ,  0.56441318,  0.38357474,  0.3559618 ,  0.23139166,\n",
              "        0.40771984,  0.33732515,  0.87743181,  0.32739101,  0.46167987,\n",
              "        0.41942645,  0.50750303,  0.52596805,  0.41151307,  0.49343682,\n",
              "        0.07085214,  0.67756517,  0.61623291,  0.71125957,  0.65610892,\n",
              "        0.45558521,  0.54361241,  0.25261836,  0.6846832 ,  0.44166085,\n",
              "        0.20817203,  0.49863299,  0.7038114 ,  0.3994803 ,  0.77608557,\n",
              "        0.63504827,  0.25509811,  0.22940565,  0.25636478,  0.32425104,\n",
              "        0.52095204,  0.45775814,  0.59289889,  0.47258449,  0.14757438])"
            ]
          },
          "metadata": {},
          "execution_count": 37
        }
      ]
    },
    {
      "cell_type": "code",
      "source": [
        "sns.histplot(s,kde=True)"
      ],
      "metadata": {
        "colab": {
          "base_uri": "https://localhost:8080/",
          "height": 447
        },
        "id": "imY2e5_BPtUz",
        "outputId": "c625a0f8-3ce6-4272-d203-35574f1cb99f"
      },
      "execution_count": 38,
      "outputs": [
        {
          "output_type": "execute_result",
          "data": {
            "text/plain": [
              "<Axes: ylabel='Count'>"
            ]
          },
          "metadata": {},
          "execution_count": 38
        },
        {
          "output_type": "display_data",
          "data": {
            "text/plain": [
              "<Figure size 640x480 with 1 Axes>"
            ],
            "image/png": "[encoded data removed]"
          },
          "metadata": {}
        }
      ]
    },
    {
      "cell_type": "markdown",
      "source": [
        "Log Normal Distribution,Power Law Distrib\n"
      ],
      "metadata": {
        "id": "QVKgyiL5Tnb_"
      }
    },
    {
      "cell_type": "code",
      "source": [
        "mu, sigma = 3., 1. #mean and standard deviation\n",
        "s = np.random.lognormal(mu, sigma, 100)"
      ],
      "metadata": {
        "id": "kXJeDt70UGZV"
      },
      "execution_count": 40,
      "outputs": []
    },
    {
      "cell_type": "code",
      "source": [
        "sns.histplot(s,kde=True)"
      ],
      "metadata": {
        "colab": {
          "base_uri": "https://localhost:8080/",
          "height": 447
        },
        "id": "2NQO9u6GUmgO",
        "outputId": "23f0e293-3625-41db-9655-c4db6a7afdef"
      },
      "execution_count": 41,
      "outputs": [
        {
          "output_type": "execute_result",
          "data": {
            "text/plain": [
              "<Axes: ylabel='Count'>"
            ]
          },
          "metadata": {},
          "execution_count": 41
        },
        {
          "output_type": "display_data",
          "data": {
            "text/plain": [
              "<Figure size 640x480 with 1 Axes>"
            ],
            "image/png": "[encoded data removed]"
          },
          "metadata": {}
        }
      ]
    },
    {
      "cell_type": "code",
      "source": [
        "sns.histplot(np.log(s),kde=True)"
      ],
      "metadata": {
        "colab": {
          "base_uri": "https://localhost:8080/",
          "height": 449
        },
        "id": "zWplVzFJU832",
        "outputId": "f95fd0dc-53d6-4165-b532-317ed6679cbc"
      },
      "execution_count": 42,
      "outputs": [
        {
          "output_type": "execute_result",
          "data": {
            "text/plain": [
              "<Axes: ylabel='Count'>"
            ]
          },
          "metadata": {},
          "execution_count": 42
        },
        {
          "output_type": "display_data",
          "data": {
            "text/plain": [
              "<Figure size 640x480 with 1 Axes>"
            ],
            "image/png": "[encoded data removed]"
          },
          "metadata": {}
        }
      ]
    }
  ]
}